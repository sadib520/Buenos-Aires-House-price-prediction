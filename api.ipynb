{
 "cells": [
  {
   "cell_type": "code",
   "execution_count": 1,
   "id": "cde744d5",
   "metadata": {},
   "outputs": [],
   "source": [
    "import requests"
   ]
  },
  {
   "cell_type": "code",
   "execution_count": 2,
   "id": "a2386b9d",
   "metadata": {},
   "outputs": [],
   "source": [
    "url = 'https://www.ibm.com/'"
   ]
  },
  {
   "cell_type": "code",
   "execution_count": 4,
   "id": "6e400ded",
   "metadata": {},
   "outputs": [],
   "source": [
    "r = requests.get(url)"
   ]
  },
  {
   "cell_type": "code",
   "execution_count": 7,
   "id": "96edeb3d",
   "metadata": {},
   "outputs": [
    {
     "data": {
      "text/plain": [
       "200"
      ]
     },
     "execution_count": 7,
     "metadata": {},
     "output_type": "execute_result"
    }
   ],
   "source": [
    "r.status_code"
   ]
  },
  {
   "cell_type": "code",
   "execution_count": 9,
   "id": "b91dcf27",
   "metadata": {},
   "outputs": [
    {
     "data": {
      "text/plain": [
       "{'User-Agent': 'python-requests/2.32.3', 'Accept-Encoding': 'gzip, deflate', 'Accept': '*/*', 'Connection': 'keep-alive', 'Cookie': '_abck=8D60816EACE9F7DFCFD27761F55EEBEE~-1~YAAQQUw5F3mkP/KWAQAAIXSlAg2tTOEVOQqItGF6TWi9bHwDFboawvdxTcoNAQbwFwWwvpeDK0kpceBkfctVI5ofJXK4On1HWYX0LN4I9+9S0TCraX6POS06dRDvu1bzFMD4cl5pF94SLYf+LDMfIjeitGO4iRUnF85+yAR1MsxLHTH5aTufHRrjmxxl8JkTsbS+P10O438mSa8jnokXlgm3FXDPrtm6l5clTLu6NIbetsftj1IQkcb42JgFV8a68wx0BTjq+ILXzOzmNG3inM0fTiKm8TiHMny9JhhOwRGfwrvDahuZevZdHDzD6bQCULmdh4wVB7GLtitQIhkTD6g43YlWICE2z/8On4FRAZsSUcHhQfvWkX5vA2we2oJCb/7JmaW2cAwVlfdKLLqmgewt+qPNMh0cvlahRefjcTV1g9joeGcNeFVAgbwn4g==~-1~-1~-1; bm_sz=96064BCEE7AFB383EDACB3D3D081A488~YAAQQUw5F3qkP/KWAQAAIXSlAhuWrzRYGk5LSSnBD7+UjAEUOO+ZbDKooiO9b/vO9V75Wdkm/KWsZFLIYc/5DTrJ7bAgqgtBoEwjepZbj33ZL8s5GL0x1XuYvY1KWWmN/nXfCT/Sv4f63HrZLSreLlAR84WASg0c8WvLbT4+pWSjo5qh/SINalWNmq+zWAzxp8flVz61upSoLIb/XQ9XqDkaGZoiEs5xSxEH0BV/O/WIkC1+/V5P1qP+wB/fatof+8E6QREpP1rzJVAFbb+i53xjTmm7sNbunZrjzX/LxPrPV0N04cCx6qX7dIO7M5O5fE70OiFxCUR6XHRp0jhYn8LK2+oPzUxCOgIL~4276537~3228226'}"
      ]
     },
     "execution_count": 9,
     "metadata": {},
     "output_type": "execute_result"
    }
   ],
   "source": [
    "r.request.headers"
   ]
  },
  {
   "cell_type": "code",
   "execution_count": 11,
   "id": "5bda04a6",
   "metadata": {},
   "outputs": [
    {
     "data": {
      "text/plain": [
       "{'Content-Security-Policy': 'upgrade-insecure-requests', 'x-frame-options': 'SAMEORIGIN', 'Last-Modified': 'Sat, 24 May 2025 13:10:03 GMT', 'ETag': '\"2d620-635e16ed9d173-gzip\"', 'Accept-Ranges': 'bytes', 'Content-Type': 'text/html;charset=utf-8', 'X-Content-Type-Options': 'nosniff', 'Cache-Control': 'max-age=107', 'Expires': 'Sat, 24 May 2025 14:16:34 GMT', 'X-Akamai-Transformed': '0 - 0 -', 'Content-Encoding': 'gzip', 'Date': 'Sat, 24 May 2025 14:14:47 GMT', 'Content-Length': '32167', 'Connection': 'keep-alive', 'Vary': 'Accept-Encoding', 'Strict-Transport-Security': 'max-age=31536000'}"
      ]
     },
     "execution_count": 11,
     "metadata": {},
     "output_type": "execute_result"
    }
   ],
   "source": [
    "r.headers"
   ]
  },
  {
   "cell_type": "code",
   "execution_count": null,
   "id": "c86089bc",
   "metadata": {},
   "outputs": [],
   "source": []
  }
 ],
 "metadata": {
  "kernelspec": {
   "display_name": "env",
   "language": "python",
   "name": "python3"
  },
  "language_info": {
   "codemirror_mode": {
    "name": "ipython",
    "version": 3
   },
   "file_extension": ".py",
   "mimetype": "text/x-python",
   "name": "python",
   "nbconvert_exporter": "python",
   "pygments_lexer": "ipython3",
   "version": "3.11.1"
  }
 },
 "nbformat": 4,
 "nbformat_minor": 5
}
